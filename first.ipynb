{
  "nbformat": 4,
  "nbformat_minor": 0,
  "metadata": {
    "colab": {
      "provenance": [],
      "authorship_tag": "ABX9TyNZdxxw4xxv/piYjuiMYFLJ",
      "include_colab_link": true
    },
    "kernelspec": {
      "name": "julia",
      "display_name": "Julia"
    },
    "language_info": {
      "name": "julia"
    }
  },
  "cells": [
    {
      "cell_type": "markdown",
      "metadata": {
        "id": "view-in-github",
        "colab_type": "text"
      },
      "source": [
        "<a href=\"https://colab.research.google.com/github/imohag9/test_package/blob/main/first.ipynb\" target=\"_parent\"><img src=\"https://colab.research.google.com/assets/colab-badge.svg\" alt=\"Open In Colab\"/></a>"
      ]
    },
    {
      "cell_type": "code",
      "execution_count": 1,
      "metadata": {
        "colab": {
          "base_uri": "https://localhost:8080/"
        },
        "collapsed": true,
        "id": "IFIAiIGvv79f",
        "outputId": "c0a1e68a-a079-4ac7-b28a-4f75ca717ad8"
      },
      "outputs": [
        {
          "output_type": "stream",
          "name": "stderr",
          "text": [
            "\u001b[32m\u001b[1m     Cloning\u001b[22m\u001b[39m git-repo `https://github.com/imohag9/TGTools.jl`\n",
            "\u001b[32m\u001b[1m    Updating\u001b[22m\u001b[39m git-repo `https://github.com/imohag9/TGTools.jl`\n",
            "\u001b[32m\u001b[1m    Updating\u001b[22m\u001b[39m registry at `~/.julia/registries/General.toml`\n",
            "\u001b[32m\u001b[1m   Resolving\u001b[22m\u001b[39m package versions...\n",
            "\u001b[32m\u001b[1m   Installed\u001b[22m\u001b[39m TZJData ─── v1.5.0+2025b\n",
            "\u001b[32m\u001b[1m   Installed\u001b[22m\u001b[39m Mocking ─── v0.8.1\n",
            "\u001b[32m\u001b[1m   Installed\u001b[22m\u001b[39m MIMEs ───── v1.1.0\n",
            "\u001b[32m\u001b[1m   Installed\u001b[22m\u001b[39m XML ─────── v0.3.6\n",
            "\u001b[32m\u001b[1m   Installed\u001b[22m\u001b[39m TimeZones ─ v1.22.0\n",
            "\u001b[32m\u001b[1m   Installed\u001b[22m\u001b[39m OpenAPI ─── v0.2.0\n",
            "\u001b[32m\u001b[1m    Updating\u001b[22m\u001b[39m `~/.julia/environments/v1.11/Project.toml`\n",
            "  \u001b[90m[93675ee4] \u001b[39m\u001b[92m+ TGTools v0.1.0 `https://github.com/imohag9/TGTools.jl#main`\u001b[39m\n",
            "\u001b[32m\u001b[1m    Updating\u001b[22m\u001b[39m `~/.julia/environments/v1.11/Manifest.toml`\n",
            "  \u001b[90m[6c6e2e6c] \u001b[39m\u001b[92m+ MIMEs v1.1.0\u001b[39m\n",
            "  \u001b[90m[78c3b35d] \u001b[39m\u001b[92m+ Mocking v0.8.1\u001b[39m\n",
            "  \u001b[90m[d5e62ea6] \u001b[39m\u001b[92m+ OpenAPI v0.2.0\u001b[39m\n",
            "  \u001b[90m[93675ee4] \u001b[39m\u001b[92m+ TGTools v0.1.0 `https://github.com/imohag9/TGTools.jl#main`\u001b[39m\n",
            "  \u001b[90m[dc5dba14] \u001b[39m\u001b[92m+ TZJData v1.5.0+2025b\u001b[39m\n",
            "  \u001b[90m[f269a46b] \u001b[39m\u001b[92m+ TimeZones v1.22.0\u001b[39m\n",
            "  \u001b[90m[72c71f33] \u001b[39m\u001b[92m+ XML v0.3.6\u001b[39m\n",
            "\u001b[92m\u001b[1mPrecompiling\u001b[22m\u001b[39m project...\n",
            "   4480.2 ms\u001b[32m  ✓ \u001b[39m\u001b[90mXML\u001b[39m\n",
            "   6876.8 ms\u001b[32m  ✓ \u001b[39m\u001b[90mMIMEs\u001b[39m\n",
            "   4926.2 ms\u001b[32m  ✓ \u001b[39m\u001b[90mTZJData\u001b[39m\n",
            "    677.9 ms\u001b[32m  ✓ \u001b[39m\u001b[90mMocking\u001b[39m\n",
            "  12509.9 ms\u001b[32m  ✓ \u001b[39m\u001b[90mTimeZones\u001b[39m\n",
            "   1323.4 ms\u001b[32m  ✓ \u001b[39m\u001b[90mTimeZones → TimeZonesRecipesBaseExt\u001b[39m\n",
            "   3939.4 ms\u001b[32m  ✓ \u001b[39m\u001b[90mOpenAPI\u001b[39m\n",
            "   1403.9 ms\u001b[32m  ✓ \u001b[39mTGTools\n",
            "  8 dependencies successfully precompiled in 33 seconds. 496 already precompiled.\n"
          ]
        }
      ],
      "source": [
        "]add https://github.com/imohag9/TGTools.jl"
      ]
    },
    {
      "cell_type": "code",
      "source": [
        "using TGTools"
      ],
      "metadata": {
        "id": "Fhzdb1O4xM9h"
      },
      "execution_count": 2,
      "outputs": []
    },
    {
      "cell_type": "markdown",
      "source": [],
      "metadata": {
        "id": "BzbEl9nnx5P5"
      }
    }
  ]
}